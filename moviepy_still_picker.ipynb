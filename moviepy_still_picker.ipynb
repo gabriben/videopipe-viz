{
 "cells": [
  {
   "cell_type": "code",
   "execution_count": null,
   "id": "598da66d",
   "metadata": {},
   "outputs": [],
   "source": [
    "import pandas as pd\n",
    "from moviepy.editor import *\n",
    "from PIL import Image\n",
    "import numpy as np"
   ]
  },
  {
   "cell_type": "code",
   "execution_count": null,
   "id": "8d7ead1d",
   "metadata": {},
   "outputs": [],
   "source": [
    "# this can be empty if the video file and its videopipe output are at the same\n",
    "# location as the code\n",
    "path = ''\n",
    "v_name = 'HIGH_LIGHTS_I_SNOWMAGAZINE_I_SANDER_26'\n",
    "task = '_still_picker_output'\n",
    "w, h = 1920, 1080"
   ]
  },
  {
   "cell_type": "code",
   "execution_count": null,
   "id": "790a74ea",
   "metadata": {},
   "outputs": [],
   "source": [
    "## read thumbnail json\n",
    "\n",
    "thumbnail = pd.read_json(path + v_name + '/' + v_name + task + '.json', lines = True)\n",
    "thumbnail_frames = [f for f in thumbnail.thumbnails_by_frameindex]\n",
    "\n",
    "# Make a list of (rank, frame) for all thumbnails in the json, sorted by rank ascending.\n",
    "thumbnails = [(f['rank'], f['frame']) for _, f in thumbnail.thumbnails_by_frameindex[0].items()].sort()"
   ]
  },
  {
   "cell_type": "code",
   "execution_count": null,
   "id": "64baaf1e",
   "metadata": {},
   "outputs": [],
   "source": [
    "## Read video file with moviepy\n",
    "\n",
    "clip = VideoFileClip(v_name + '.mp4')"
   ]
  },
  {
   "cell_type": "code",
   "execution_count": null,
   "id": "e9e348e9",
   "metadata": {},
   "outputs": [],
   "source": [
    "def get_frame_by_number(clip, frame_number):\n",
    "    \"\"\" Returns the frame from the clip by their frame_number. \"\"\"\n",
    "    \n",
    "    frame_duration = 1 / clip.fps\n",
    "    frame = clip.get_frame(frame_number * frame_duration)\n",
    "    return Image.fromarray(frame)"
   ]
  },
  {
   "cell_type": "code",
   "execution_count": null,
   "id": "4fa28c43",
   "metadata": {},
   "outputs": [],
   "source": [
    "def get_thumbnail_clips(clip, thumbnails, countdown=True, still_duration=3, text_frame_duration=1):\n",
    "    \"\"\" Make a list of clips for all the (ascendingly sorted on rank) thumbnails in 'thumbnails',\n",
    "    alternating with text clips indicating the rank. \"\"\"\n",
    "\n",
    "    if countdown:\n",
    "        thumbnails = thumbnails[::-1] \n",
    "\n",
    "    still_duration = 3\n",
    "    text_frame_duration = 1\n",
    "\n",
    "    start_frame = TextClip(f\"Top {len(thumbnails)} thumbnails \\n\\n from \\n\\n {v_name}.mp4\", fontsize = 50, color = 'white',\n",
    "                            size=(w, h)).set_duration(still_duration)\n",
    "\n",
    "    clips = [start_frame]\n",
    "\n",
    "    for rank, thumbnail_frame_nr in thumbnails:\n",
    "        txtclip = TextClip(f\"{rank}.\", \n",
    "                        fontsize = 100, \n",
    "                        color = 'white',\n",
    "                        size=(w, h)\n",
    "                        ).set_duration(text_frame_duration)\n",
    "        frame = get_frame_by_number(clip, thumbnail_frame_nr)\n",
    "        imgclip = ImageClip(np.array(frame)).set_duration(still_duration)\n",
    "        clips.append(txtclip)\n",
    "        clips.append(imgclip)"
   ]
  },
  {
   "cell_type": "code",
   "execution_count": null,
   "id": "236b5792",
   "metadata": {},
   "outputs": [],
   "source": [
    "top_5_thumbnails = thumbnails[:5]\n",
    "clips = get_thumbnail_clips(clip, top_5_thumbnails)\n",
    "\n",
    "final_clip = concatenate_videoclips(clips)\n",
    "final_clip.write_gif(f\"{v_name}_top_5_stills.gif\", fps=1)"
   ]
  },
  {
   "cell_type": "code",
   "execution_count": null,
   "id": "96ad9a0b",
   "metadata": {},
   "outputs": [],
   "source": []
  }
 ],
 "metadata": {
  "kernelspec": {
   "display_name": "Python 3 (ipykernel)",
   "language": "python",
   "name": "python3"
  },
  "language_info": {
   "codemirror_mode": {
    "name": "ipython",
    "version": 3
   },
   "file_extension": ".py",
   "mimetype": "text/x-python",
   "name": "python",
   "nbconvert_exporter": "python",
   "pygments_lexer": "ipython3",
   "version": "3.10.6"
  }
 },
 "nbformat": 4,
 "nbformat_minor": 5
}
