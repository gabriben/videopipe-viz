{
 "cells": [
  {
   "cell_type": "code",
   "execution_count": 1,
   "metadata": {},
   "outputs": [],
   "source": [
    "import pandas as pd\n",
    "from moviepy.editor import *\n",
    "from PIL import Image\n",
    "from PIL import ImageDraw\n",
    "from numpy import asarray"
   ]
  },
  {
   "cell_type": "code",
   "execution_count": null,
   "metadata": {},
   "outputs": [],
   "source": [
    "# Change FFMPEG binary path to allow for GPU acceleration.\n",
    "from moviepy.config import change_settings\n",
    "change_settings({\"FFMPEG_BINARY\":\"ffmpeg\"})"
   ]
  },
  {
   "cell_type": "code",
   "execution_count": 2,
   "metadata": {},
   "outputs": [],
   "source": [
    "# this can be empty if the video file and its videopipe output are at the same\n",
    "# location as the code\n",
    "path = ''\n",
    "v_name = 'HIGH_LIGHTS_I_SNOWMAGAZINE_I_SANDER_26'\n",
    "task = '_shot_boundaries_datamodel'\n",
    "w, h = 1920, 1080\n",
    "RESIZE_DIM = 640"
   ]
  },
  {
   "cell_type": "code",
   "execution_count": 3,
   "metadata": {},
   "outputs": [],
   "source": [
    "## read shots detection json\n",
    "\n",
    "shots = pd.read_json(path + v_name + '/' + v_name + task + '.json', lines = True)\n",
    "\n",
    "shots_detected = [f for f in shots.data[0]]"
   ]
  },
  {
   "cell_type": "code",
   "execution_count": 4,
   "metadata": {},
   "outputs": [],
   "source": [
    "## read video file with moviepy\n",
    "\n",
    "clip = VideoFileClip(v_name + '.mp4')\n",
    "\n",
    "fps = clip.fps\n",
    "frame_duration = 1 / fps\n",
    "\n",
    "# All frames in json file\n",
    "frames = [f['dimension_idx'] for f in shots_detected]"
   ]
  },
  {
   "attachments": {},
   "cell_type": "markdown",
   "metadata": {},
   "source": [
    "Create textclips for each entry in JSON."
   ]
  },
  {
   "cell_type": "code",
   "execution_count": 6,
   "metadata": {},
   "outputs": [],
   "source": [
    "txtclips = []\n",
    "\n",
    "# Set text to display, appended by number of shot.\n",
    "txt = 'Shot'\n",
    "\n",
    "# Set duration of text clip\n",
    "txtclip_dur = 1\n",
    "\n",
    "count = 1\n",
    "\n",
    "for f in frames:\n",
    "    txtclip = (TextClip(txt + \" \" + str(count), color='white',\n",
    "            font=\"Century-Schoolbook-Roman\", fontsize=70, kerning=-2,\n",
    "            interline=-1, bg_color='black', size = (w, h))\n",
    "            .set_duration(txtclip_dur)\n",
    "            .set_position(('center')))\n",
    "    txtclips.append(txtclip)\n",
    "    count += 1\n"
   ]
  },
  {
   "attachments": {},
   "cell_type": "markdown",
   "metadata": {},
   "source": [
    "Create list of subclips. First, a textclip is added showing the number of the shot. Next, a subclip is added containing the entire shot. Doing this for all shots results in a list of correctly ordered text- and subclips which can then be concatenated and written to an mp4 file"
   ]
  },
  {
   "cell_type": "code",
   "execution_count": 7,
   "metadata": {},
   "outputs": [],
   "source": [
    "subclips = []\n",
    "\n",
    "timestamps = [f * frame_duration for f in frames]\n",
    "\n",
    "for i in range(len(timestamps) - 1):\n",
    "    subclip = clip.subclip(timestamps[i], timestamps[i + 1])\n",
    "    subclips.append(txtclips[i])\n",
    "    subclips.append(subclip)\n",
    "\n",
    "# Add the last text clip and the last subclip\n",
    "subclips.append(txtclips[-1])\n",
    "subclip = clip.subclip(timestamps[-1], clip.duration)\n",
    "subclips.append(subclip)\n",
    "\n",
    "final = concatenate_videoclips(subclips)"
   ]
  },
  {
   "cell_type": "code",
   "execution_count": 8,
   "metadata": {},
   "outputs": [
    {
     "name": "stdout",
     "output_type": "stream",
     "text": [
      "Moviepy - Building video shot.mp4.\n",
      "MoviePy - Writing audio in shotTEMP_MPY_wvf_snd.mp3\n"
     ]
    },
    {
     "name": "stderr",
     "output_type": "stream",
     "text": [
      "                                                                        \r"
     ]
    },
    {
     "name": "stdout",
     "output_type": "stream",
     "text": [
      "MoviePy - Done.\n",
      "Moviepy - Writing video shot.mp4\n",
      "\n"
     ]
    },
    {
     "name": "stderr",
     "output_type": "stream",
     "text": [
      "                                                                   \r"
     ]
    },
    {
     "name": "stdout",
     "output_type": "stream",
     "text": [
      "Moviepy - Done !\n",
      "Moviepy - video ready shot.mp4\n"
     ]
    }
   ],
   "source": [
    "final.write_videofile(\"shot.mp4\", codec='h264_nvenc', fps=25)"
   ]
  }
 ],
 "metadata": {
  "kernelspec": {
   "display_name": "Python 3",
   "language": "python",
   "name": "python3"
  },
  "language_info": {
   "codemirror_mode": {
    "name": "ipython",
    "version": 3
   },
   "file_extension": ".py",
   "mimetype": "text/x-python",
   "name": "python",
   "nbconvert_exporter": "python",
   "pygments_lexer": "ipython3",
   "version": "3.8.10"
  },
  "orig_nbformat": 4
 },
 "nbformat": 4,
 "nbformat_minor": 2
}
