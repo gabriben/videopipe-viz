{
 "cells": [
  {
   "cell_type": "code",
   "execution_count": 72,
   "id": "598da66d",
   "metadata": {},
   "outputs": [],
   "source": [
    "import pandas as pd\n",
    "import moviepy.editor as mp\n",
    "from PIL import Image, ImageDraw, ImageFont\n",
    "import numpy as np"
   ]
  },
  {
   "cell_type": "code",
   "execution_count": 56,
   "id": "8d7ead1d",
   "metadata": {},
   "outputs": [],
   "source": [
    "# this can be empty if the video file and its videopipe output are at the same\n",
    "# location as the code\n",
    "path = ''\n",
    "video_path = 'Videos/'\n",
    "v_name = 'HIGH_LIGHTS_I_SNOWMAGAZINE_I_SANDER_26'\n",
    "task = '_midroll_marker_output'\n"
   ]
  },
  {
   "cell_type": "code",
   "execution_count": 57,
   "id": "790a74ea",
   "metadata": {},
   "outputs": [
    {
     "data": {
      "text/plain": [
       "['10664']"
      ]
     },
     "execution_count": 57,
     "metadata": {},
     "output_type": "execute_result"
    }
   ],
   "source": [
    "## read thumbnail json\n",
    "\n",
    "midroll = pd.read_json(f\"{path + v_name}/{v_name + task}.json\", lines=True)\n",
    "midroll_markers = midroll['midroll_markers'][0]\n",
    "midroll_markers\n"
   ]
  },
  {
   "cell_type": "code",
   "execution_count": 58,
   "id": "64baaf1e",
   "metadata": {},
   "outputs": [],
   "source": [
    "## Read video file with moviepy\n",
    "\n",
    "clip = mp.VideoFileClip(video_path + v_name + '.mp4')"
   ]
  },
  {
   "cell_type": "code",
   "execution_count": 59,
   "id": "e9e348e9",
   "metadata": {},
   "outputs": [],
   "source": [
    "def get_frame_by_number(clip, frame_number):\n",
    "    \"\"\" Returns the frame from the clip by their frame_number. \"\"\"\n",
    "    \n",
    "    frame_duration = 1 / clip.fps\n",
    "    frame = clip.get_frame(frame_number * frame_duration)\n",
    "    return Image.fromarray(frame)"
   ]
  },
  {
   "cell_type": "code",
   "execution_count": 83,
   "id": "4fa28c43",
   "metadata": {},
   "outputs": [],
   "source": [
    "def make_frame_line(clip, midroll_marker):\n",
    "    \"\"\" Make a row of frames indicating the frame-precise position of the midroll. \"\"\"\n",
    "    w, h = clip.size\n",
    "\n",
    "    try:\n",
    "        frame_after_midroll = int(midroll_marker)\n",
    "        frame_before_midroll = frame_after_midroll - 1\n",
    "    except ValueError:\n",
    "        frame_before_midroll = int(float(midroll_marker))\n",
    "        frame_after_midroll = int(np.ceil(float(midroll_marker)))\n",
    "\n",
    "    frame_line = Image.new('RGB', (5 * w, h))\n",
    "\n",
    "    frame_line.paste(get_frame_by_number(clip, frame_before_midroll - 1), (0, 0))\n",
    "    frame_line.paste(get_frame_by_number(clip, frame_before_midroll), (w, 0))\n",
    "\n",
    "    font = ImageFont.truetype(\"NotoSansMono-Bold.ttf\", 50)\n",
    "    draw = ImageDraw.Draw(frame_line)\n",
    "    draw.text((2.2 * w, h/3), f\"Midroll between frames {frame_before_midroll} and {frame_after_midroll}\", font=font, fill='white')\n",
    "    draw.text((2.2 * w, h/2), f\"timestamps: {frame_before_midroll/clip.fps} and {frame_after_midroll/clip.fps}\", font=font, fill='white')\n",
    "\n",
    "    frame_line.paste(get_frame_by_number(clip, frame_after_midroll), (3 * w, 0))\n",
    "    frame_line.paste(get_frame_by_number(clip, frame_after_midroll + 1), (4* w, 0))\n",
    "\n",
    "    return frame_line\n"
   ]
  },
  {
   "cell_type": "code",
   "execution_count": 85,
   "id": "09ba55bc",
   "metadata": {},
   "outputs": [],
   "source": [
    "make_frame_line(clip, midroll_markers[0]).save(f\"{v_name}_midroll_indication.jpg\")"
   ]
  }
 ],
 "metadata": {
  "kernelspec": {
   "display_name": "Python 3 (ipykernel)",
   "language": "python",
   "name": "python3"
  },
  "language_info": {
   "codemirror_mode": {
    "name": "ipython",
    "version": 3
   },
   "file_extension": ".py",
   "mimetype": "text/x-python",
   "name": "python",
   "nbconvert_exporter": "python",
   "pygments_lexer": "ipython3",
   "version": "3.10.6"
  }
 },
 "nbformat": 4,
 "nbformat_minor": 5
}
