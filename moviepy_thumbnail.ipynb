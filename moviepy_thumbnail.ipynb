{
 "cells": [
  {
   "cell_type": "code",
   "execution_count": 1,
   "metadata": {},
   "outputs": [],
   "source": [
    "import pandas as pd\n",
    "from moviepy.editor import *\n",
    "from PIL import Image\n",
    "from PIL import ImageDraw\n",
    "import numpy as np"
   ]
  },
  {
   "cell_type": "code",
   "execution_count": 2,
   "metadata": {},
   "outputs": [],
   "source": [
    "# this can be empty if the video file and its videopipe output are at the same\n",
    "# location as the code\n",
    "path = ''\n",
    "v_name = 'HIGH_LIGHTS_I_SNOWMAGAZINE_I_SANDER_26'\n",
    "task = '_still_picker_output'\n",
    "w, h = 1920, 1080"
   ]
  },
  {
   "cell_type": "code",
   "execution_count": 3,
   "metadata": {},
   "outputs": [],
   "source": [
    "## read thumbnail json\n",
    "\n",
    "thumbnail = pd.read_json(path + v_name + '/' + v_name + task + '.json', lines = True)\n",
    "thumbnail_frames = [f for f in thumbnail.thumbnails_by_frameindex]\n",
    "\n",
    "# Only get the value of each key\n",
    "frames = [{'rank': v['rank'], 'frame': v['frame']} for d in thumbnail_frames for k, v in d.items()]"
   ]
  },
  {
   "cell_type": "code",
   "execution_count": 4,
   "metadata": {},
   "outputs": [
    {
     "name": "stdout",
     "output_type": "stream",
     "text": [
      "[{'rank': 1, 'frame': 4368}, {'rank': 2, 'frame': 8190}, {'rank': 3, 'frame': 2002}, {'rank': 4, 'frame': 4186}, {'rank': 5, 'frame': 6188}, {'rank': 6, 'frame': 6916}, {'rank': 7, 'frame': 7462}, {'rank': 8, 'frame': 6552}, {'rank': 9, 'frame': 8372}, {'rank': 10, 'frame': 0}, {'rank': 11, 'frame': 7826}, {'rank': 12, 'frame': 3094}, {'rank': 13, 'frame': 8918}, {'rank': 14, 'frame': 6734}, {'rank': 15, 'frame': 2184}, {'rank': 16, 'frame': 5096}, {'rank': 17, 'frame': 2730}, {'rank': 18, 'frame': 7280}, {'rank': 19, 'frame': 7644}, {'rank': 20, 'frame': 5278}, {'rank': 21, 'frame': 4004}, {'rank': 22, 'frame': 4732}, {'rank': 23, 'frame': 5460}, {'rank': 24, 'frame': 2366}, {'rank': 25, 'frame': 6370}, {'rank': 26, 'frame': 8008}, {'rank': 27, 'frame': 1638}, {'rank': 28, 'frame': 2912}, {'rank': 29, 'frame': 5642}, {'rank': 30, 'frame': 3458}, {'rank': 31, 'frame': 1456}, {'rank': 32, 'frame': 3276}, {'rank': 33, 'frame': 3640}, {'rank': 34, 'frame': 8736}, {'rank': 35, 'frame': 1820}, {'rank': 36, 'frame': 5824}, {'rank': 37, 'frame': 7098}, {'rank': 38, 'frame': 364}, {'rank': 39, 'frame': 2548}, {'rank': 40, 'frame': 728}, {'rank': 41, 'frame': 910}, {'rank': 42, 'frame': 1092}, {'rank': 43, 'frame': 1274}, {'rank': 44, 'frame': 182}, {'rank': 45, 'frame': 3822}, {'rank': 46, 'frame': 8554}, {'rank': 47, 'frame': 4914}, {'rank': 48, 'frame': 4550}, {'rank': 49, 'frame': 546}, {'rank': 50, 'frame': 6006}]\n"
     ]
    }
   ],
   "source": [
    "# Sort frames based on rank\n",
    "frames = sorted(frames, key = lambda i: i['rank'])\n",
    "print(frames)"
   ]
  },
  {
   "attachments": {},
   "cell_type": "markdown",
   "metadata": {},
   "source": [
    "Set the amount of thumbnails to be shown."
   ]
  },
  {
   "cell_type": "code",
   "execution_count": 5,
   "metadata": {},
   "outputs": [
    {
     "name": "stdout",
     "output_type": "stream",
     "text": [
      "[{'rank': 10, 'frame': 0}, {'rank': 9, 'frame': 8372}, {'rank': 8, 'frame': 6552}, {'rank': 7, 'frame': 7462}, {'rank': 6, 'frame': 6916}, {'rank': 5, 'frame': 6188}, {'rank': 4, 'frame': 4186}, {'rank': 3, 'frame': 2002}, {'rank': 2, 'frame': 8190}, {'rank': 1, 'frame': 4368}]\n"
     ]
    }
   ],
   "source": [
    "# Set the amount of frames to be shown.\n",
    "n = 10\n",
    "\n",
    "# Get the first n frames and reverse the order.\n",
    "frames = frames[:n][::-1]\n",
    "print(frames)"
   ]
  },
  {
   "cell_type": "code",
   "execution_count": 6,
   "metadata": {},
   "outputs": [],
   "source": [
    "## Read video file with moviepy\n",
    "\n",
    "clip = VideoFileClip(v_name + '.mp4')\n",
    "\n",
    "fps = clip.fps\n",
    "frame_duration = 1 / fps"
   ]
  },
  {
   "cell_type": "code",
   "execution_count": 7,
   "metadata": {},
   "outputs": [],
   "source": [
    "def get_frame(clip, frame_number):\n",
    "    return Image.fromarray(clip.get_frame(frame_number * frame_duration))"
   ]
  },
  {
   "attachments": {},
   "cell_type": "markdown",
   "metadata": {},
   "source": [
    "Create image clips of thumbnail prefixed with textclips showing the rank of thumbnail."
   ]
  },
  {
   "cell_type": "code",
   "execution_count": 8,
   "metadata": {},
   "outputs": [],
   "source": [
    "# Set duration of frame.\n",
    "duration_f = 3\n",
    "\n",
    "# Set duration of text\n",
    "duration_t = 1\n",
    "\n",
    "thumbnail_clips = []\n",
    "count = n\n",
    "\n",
    "for f in frames:\n",
    "    txtclip = TextClip(\"Thumbnail \" + str(count), fontsize = 100, color = 'white',\n",
    "                        size=(w, h)).set_duration(duration_t)\n",
    "    frame = get_frame(clip, f['frame'])\n",
    "    imgclip = ImageClip(np.array(frame)).set_duration(duration_f)\n",
    "    thumbnail_clips.append(txtclip)\n",
    "    thumbnail_clips.append(imgclip)\n",
    "    count -= 1"
   ]
  },
  {
   "attachments": {},
   "cell_type": "markdown",
   "metadata": {},
   "source": [
    "Create gif of thumbnails"
   ]
  },
  {
   "cell_type": "code",
   "execution_count": 9,
   "metadata": {},
   "outputs": [
    {
     "name": "stdout",
     "output_type": "stream",
     "text": [
      "MoviePy - Building file thumbnails.gif with imageio.\n"
     ]
    },
    {
     "name": "stderr",
     "output_type": "stream",
     "text": [
      "                                                            \r"
     ]
    }
   ],
   "source": [
    "# Create the final clip\n",
    "final_clip = concatenate_videoclips(thumbnail_clips)\n",
    "\n",
    "# Write the final clip to a file\n",
    "final_clip.write_gif(\"thumbnails.gif\", fps = 1)"
   ]
  }
 ],
 "metadata": {
  "language_info": {
   "name": "python"
  },
  "orig_nbformat": 4
 },
 "nbformat": 4,
 "nbformat_minor": 2
}
