{
 "cells": [
  {
   "cell_type": "code",
   "execution_count": 1,
   "metadata": {},
   "outputs": [],
   "source": [
    "import pandas as pd\n",
    "from moviepy.editor import *\n",
    "from PIL import Image\n",
    "from PIL import ImageDraw\n",
    "import numpy as np"
   ]
  },
  {
   "cell_type": "code",
   "execution_count": 2,
   "metadata": {},
   "outputs": [],
   "source": [
    "# this can be empty if the video file and its videopipe output are at the same\n",
    "# location as the code\n",
    "path = ''\n",
    "v_name = 'HIGH_LIGHTS_I_SNOWMAGAZINE_I_SANDER_26'\n",
    "task = '_still_picker_output'\n",
    "w, h = 1920, 1080"
   ]
  },
  {
   "cell_type": "code",
   "execution_count": 3,
   "metadata": {},
   "outputs": [],
   "source": [
    "## read thumbnail json\n",
    "\n",
    "thumbnail = pd.read_json(path + v_name + '/' + v_name + task + '.json', lines = True)\n",
    "thumbnail_frames = [f for f in thumbnail.thumbnails_by_frameindex]\n",
    "\n",
    "# Only get the value of each key\n",
    "frames = [{'rank': v['rank'], 'frame': v['frame']} for d in thumbnail_frames for k, v in d.items()]"
   ]
  },
  {
   "cell_type": "code",
   "execution_count": 4,
   "metadata": {},
   "outputs": [],
   "source": [
    "# Sort frames based on rank\n",
    "frames = sorted(frames, key = lambda i: i['rank'])"
   ]
  },
  {
   "attachments": {},
   "cell_type": "markdown",
   "metadata": {},
   "source": [
    "Set the amount of thumbnails to be shown."
   ]
  },
  {
   "cell_type": "code",
   "execution_count": 5,
   "metadata": {},
   "outputs": [
    {
     "name": "stdout",
     "output_type": "stream",
     "text": [
      "[{'rank': 10, 'frame': 0}, {'rank': 9, 'frame': 8372}, {'rank': 8, 'frame': 6552}, {'rank': 7, 'frame': 7462}, {'rank': 6, 'frame': 6916}, {'rank': 5, 'frame': 6188}, {'rank': 4, 'frame': 4186}, {'rank': 3, 'frame': 2002}, {'rank': 2, 'frame': 8190}, {'rank': 1, 'frame': 4368}]\n"
     ]
    }
   ],
   "source": [
    "# Set the amount of frames to be shown.\n",
    "n = 10\n",
    "\n",
    "# Get the first n frames and reverse the order.\n",
    "frames = frames[:n][::-1]\n",
    "print(frames)"
   ]
  },
  {
   "cell_type": "code",
   "execution_count": 6,
   "metadata": {},
   "outputs": [],
   "source": [
    "## Read video file with moviepy\n",
    "\n",
    "clip = VideoFileClip(v_name + '.mp4')\n",
    "\n",
    "fps = clip.fps\n",
    "frame_duration = 1 / fps"
   ]
  },
  {
   "cell_type": "code",
   "execution_count": 7,
   "metadata": {},
   "outputs": [],
   "source": [
    "def get_frame(clip, frame_number):\n",
    "    return Image.fromarray(clip.get_frame(frame_number * frame_duration))"
   ]
  },
  {
   "attachments": {},
   "cell_type": "markdown",
   "metadata": {},
   "source": [
    "Create image clips of thumbnail prefixed with textclips showing the rank of thumbnail."
   ]
  },
  {
   "cell_type": "code",
   "execution_count": 8,
   "metadata": {},
   "outputs": [],
   "source": [
    "# Set duration of frame.\n",
    "duration_f = 3\n",
    "\n",
    "# Set duration of text\n",
    "duration_t = 1\n",
    "\n",
    "thumbnail_clips = []\n",
    "count = n\n",
    "\n",
    "for f in frames:\n",
    "    txtclip = TextClip(\"Thumbnail \" + str(count), fontsize = 100, color = 'white',\n",
    "                        size=(w, h)).set_duration(duration_t)\n",
    "    frame = get_frame(clip, f['frame'])\n",
    "    imgclip = ImageClip(np.array(frame)).set_duration(duration_f)\n",
    "    thumbnail_clips.append(txtclip)\n",
    "    thumbnail_clips.append(imgclip)\n",
    "    count -= 1"
   ]
  },
  {
   "attachments": {},
   "cell_type": "markdown",
   "metadata": {},
   "source": [
    "Create gif of thumbnails"
   ]
  },
  {
   "cell_type": "code",
   "execution_count": 9,
   "metadata": {},
   "outputs": [
    {
     "name": "stdout",
     "output_type": "stream",
     "text": [
      "MoviePy - Building file thumbnails.gif with imageio.\n"
     ]
    },
    {
     "name": "stderr",
     "output_type": "stream",
     "text": [
      "                                                            \r"
     ]
    }
   ],
   "source": [
    "# Create the final clip\n",
    "final_clip = concatenate_videoclips(thumbnail_clips)\n",
    "\n",
    "# Write the final clip to a file\n",
    "final_clip.write_gif(\"thumbnails.gif\", fps = 1)"
   ]
  }
 ],
 "metadata": {
  "kernelspec": {
   "display_name": "Python 3",
   "language": "python",
   "name": "python3"
  },
  "language_info": {
   "codemirror_mode": {
    "name": "ipython",
    "version": 3
   },
   "file_extension": ".py",
   "mimetype": "text/x-python",
   "name": "python",
   "nbconvert_exporter": "python",
   "pygments_lexer": "ipython3",
   "version": "3.8.10"
  },
  "orig_nbformat": 4
 },
 "nbformat": 4,
 "nbformat_minor": 2
}
