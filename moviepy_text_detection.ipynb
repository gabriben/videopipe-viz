{
 "cells": [
  {
   "cell_type": "code",
   "execution_count": 1,
   "metadata": {},
   "outputs": [],
   "source": [
    "import pandas as pd\n",
    "from moviepy.editor import *\n",
    "from PIL import Image\n",
    "from PIL import ImageDraw\n",
    "from PIL import ImageFont\n",
    "from numpy import asarray\n",
    "import os\n",
    "import subprocess"
   ]
  },
  {
   "cell_type": "code",
   "execution_count": 2,
   "metadata": {},
   "outputs": [],
   "source": [
    "# Change ffmpeg used by moviepy to the one installed if one is installed, otherwise use the one from moviepy.\n",
    "# This is necessary for using HW acceleration.\n",
    "try:\n",
    "    from moviepy.config import change_settings\n",
    "    change_settings({\"FFMPEG_BINARY\":\"ffmpeg\"})\n",
    "except:\n",
    "    pass"
   ]
  },
  {
   "cell_type": "code",
   "execution_count": 3,
   "metadata": {},
   "outputs": [],
   "source": [
    "# this can be empty if the video file and its videopipe output are at the same\n",
    "# location as the code\n",
    "path = ''\n",
    "v_name = 'HIGH_LIGHTS_I_SNOWMAGAZINE_I_SANDER_26'\n",
    "task = '_frame_text_detection_datamodel'\n",
    "w, h = 1920, 1080\n",
    "RESIZE_DIM = 640"
   ]
  },
  {
   "cell_type": "code",
   "execution_count": 4,
   "metadata": {},
   "outputs": [],
   "source": [
    "## read text detection json\n",
    "\n",
    "text = pd.read_json(path + v_name + '/' + v_name + task + '.json', lines = True)\n",
    "\n",
    "text_detected = [f for f in text.data[0] if len(f['text']) > 0]\n",
    "\n",
    "frames = [f['dimension_idx'] for f in text_detected]"
   ]
  },
  {
   "cell_type": "code",
   "execution_count": 15,
   "metadata": {},
   "outputs": [
    {
     "name": "stdout",
     "output_type": "stream",
     "text": [
      "MoviePy - Writing audio in HIGH_LIGHTS_I_SNOWMAGAZINE_I_SANDER_26_audio.mp3\n"
     ]
    },
    {
     "name": "stderr",
     "output_type": "stream",
     "text": [
      "                                                                        "
     ]
    },
    {
     "name": "stdout",
     "output_type": "stream",
     "text": [
      "MoviePy - Done.\n"
     ]
    },
    {
     "name": "stderr",
     "output_type": "stream",
     "text": [
      "\r"
     ]
    }
   ],
   "source": [
    "## read video file with moviepy\n",
    "\n",
    "clip = VideoFileClip(v_name + '.mp4')\n",
    "\n",
    "audio = clip.audio\n",
    "\n",
    "# Write audio to file\n",
    "audio.write_audiofile(v_name + '_audio.mp3')\n",
    "\n",
    "fps = clip.fps\n",
    "frame_duration = 1 / fps"
   ]
  },
  {
   "cell_type": "code",
   "execution_count": 6,
   "metadata": {},
   "outputs": [],
   "source": [
    "def get_frame(clip, frame_number):\n",
    "    return Image.fromarray(clip.get_frame(frame_number * frame_duration))"
   ]
  },
  {
   "cell_type": "code",
   "execution_count": 7,
   "metadata": {},
   "outputs": [],
   "source": [
    "def draw_text(texts, img):\n",
    "    for text in texts:\n",
    "        left, top, width, height, conf, text = texts[text].values()\n",
    "        draw = ImageDraw.Draw(img)\n",
    "        draw.rectangle(((left, top), ((left + width), (top + height))), outline = 'red')\n",
    "        text = text + \" (conf: \" + str(conf) + \")\"\n",
    "        draw.text((left, top), text, font=font, fill = 'red')\n",
    "    return img"
   ]
  },
  {
   "cell_type": "code",
   "execution_count": 11,
   "metadata": {},
   "outputs": [],
   "source": [
    "# Set how many faces to be included in each video clip. If set to -1, all faces\n",
    "# will be included in one video clip. A lower number will result in more video\n",
    "# clips using less memory but more disk space. A higher number will result in\n",
    "# less video clips using more memory but less disk space.\n",
    "text_limit = 100\n",
    "\n",
    "# Requires font in /usr/share/fonts/truetype.\n",
    "font = ImageFont.truetype(\"Lato-Bold.ttf\", 20)\n",
    "\n",
    "duration_t = frame_duration\n",
    "prev_t = 0\n",
    "\n",
    "f = open('text_detection.txt', 'w')\n",
    "\n",
    "def get_text_clips(text_detected, text_limit=100, timestamp=0):\n",
    "    clips = []\n",
    "    text_count = 0\n",
    "    for f in text_detected:\n",
    "        if text_count == text_limit:\n",
    "            break\n",
    "\n",
    "        img = get_frame(clip, f['dimension_idx'])\n",
    "        t = f['dimension_idx'] * frame_duration\n",
    "\n",
    "        texts = f['text']\n",
    "\n",
    "        draw_text(texts, img)\n",
    "\n",
    "        if (timestamp != t):\n",
    "            clips.append(clip.subclip(timestamp, t))\n",
    "\n",
    "        clips.append(ImageClip(asarray(img), duration = duration_t))\n",
    "        img.close()\n",
    "        timestamp = t + duration_t\n",
    "        text_count += 1\n",
    "\n",
    "        if f == text_detected[-1]:\n",
    "            clips.append(clip.subclip(timestamp, clip.duration))\n",
    "            timestamp = clip.duration\n",
    "\n",
    "    return clips, timestamp\n",
    "\n",
    "for i in range(len(text_detected) // text_limit + 1):\n",
    "    clips = []\n",
    "    clips, prev_t = get_text_clips(text_detected[i * text_limit:], text_limit, prev_t)\n",
    "\n",
    "    # Try hw acceleration, else use cpu\n",
    "    try:\n",
    "            concatenate_videoclips(clips).write_videofile('text_detection_' + str(i) + '.mp4', fps=fps, codec='h264_nvenc', audio=False, logger=None, preset='3')\n",
    "    except:\n",
    "        try:\n",
    "            concatenate_videoclips(clips).write_videofile('text_detection_' + str(i) + '.mp4', fps=fps, codec='libx264', audio=False, logger=None, preset='ultrafast')\n",
    "        except:\n",
    "            raise Exception('An error occured while writing the video file.')\n",
    "    f.write('file text_detection_' + str(i) + '.mp4\\n')\n",
    "f.close()"
   ]
  },
  {
   "cell_type": "code",
   "execution_count": 12,
   "metadata": {},
   "outputs": [],
   "source": [
    "# remove any existing output.mp4 file\n",
    "if os.path.exists('output.mp4'):\n",
    "    os.remove('output.mp4')\n",
    "if os.path.exists(v_name + '_text_detection.mp4'):\n",
    "    os.remove(v_name + '_text_detection.mp4')\n",
    "\n",
    "# Concatenate all the files in the face_detection.txt file into one final clip\n",
    "# and write to .mp4 file.\n",
    "subprocess.call(\"ffmpeg -f concat -safe 0 -i text_detection.txt -c copy output.mp4\", shell=True)\n",
    "\n",
    "# Add the audio to the final clip.\n",
    "subprocess.call(\"ffmpeg -i output.mp4 -i \" + v_name + \"_audio.mp3 -c:v copy -c:a aac -map 0:v:0 -map 1:a:0 -shortest \" + v_name + \"_text_detection.mp4\", shell=True)\n",
    "\n",
    "# Delete all the subclips.\n",
    "for i in range(len(text_detected) // text_limit + 1):\n",
    "    os.remove('text_detection_' + str(i) + '.mp4')\n",
    "\n",
    "# Delete the face_detection.txt file.\n",
    "os.remove('text_detection.txt')\n",
    "\n",
    "# Delete the audio file.\n",
    "os.remove(v_name + '_audio.mp3')"
   ]
  }
 ],
 "metadata": {
  "kernelspec": {
   "display_name": "Python 3",
   "language": "python",
   "name": "python3"
  },
  "language_info": {
   "codemirror_mode": {
    "name": "ipython",
    "version": 3
   },
   "file_extension": ".py",
   "mimetype": "text/x-python",
   "name": "python",
   "nbconvert_exporter": "python",
   "pygments_lexer": "ipython3",
   "version": "3.8.10"
  },
  "orig_nbformat": 4
 },
 "nbformat": 4,
 "nbformat_minor": 2
}
